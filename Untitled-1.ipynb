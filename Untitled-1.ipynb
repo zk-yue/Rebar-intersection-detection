{
 "cells": [
  {
   "cell_type": "code",
   "execution_count": 1,
   "metadata": {},
   "outputs": [
    {
     "name": "stdout",
     "output_type": "stream",
     "text": [
      "Jupyter environment detected. Enabling Open3D WebVisualizer.\n",
      "[Open3D INFO] WebRTC GUI backend enabled.\n",
      "[Open3D INFO] WebRTCWindowSystem: HTTP handshake server disabled.\n"
     ]
    }
   ],
   "source": [
    "import open3d as o3d\n",
    "import numpy as np\n",
    "import matplotlib.pyplot as plt"
   ]
  },
  {
   "cell_type": "code",
   "execution_count": 2,
   "metadata": {},
   "outputs": [
    {
     "name": "stdout",
     "output_type": "stream",
     "text": [
      "->正在加载点云... \n",
      "PointCloud with 926910 points.\n"
     ]
    }
   ],
   "source": [
    "# 加载点云\n",
    "print(\"->正在加载点云... \")\n",
    "dataset=\"point_cloud_00000.pcd\"\n",
    "pcd = o3d.io.read_point_cloud(dataset) #点云读取\n",
    "print(pcd)"
   ]
  },
  {
   "cell_type": "code",
   "execution_count": 3,
   "metadata": {},
   "outputs": [],
   "source": [
    "# 法线估计\n",
    "radius = 0.01   # 搜索半径\n",
    "max_nn = 30     # 邻域内用于估算法线的最大点数\n",
    "pcd.estimate_normals(search_param=o3d.geometry.KDTreeSearchParamHybrid(radius, max_nn))     # 执行法线估计"
   ]
  },
  {
   "cell_type": "code",
   "execution_count": null,
   "metadata": {},
   "outputs": [],
   "source": [
    "# 坐标轴显示\n",
    "viewer = o3d.visualization.Visualizer()# 可视化句柄\n",
    "viewer.create_window(window_name='可视化')\n",
    "opt=viewer.get_render_option() # 界面参数选择\n",
    "opt.background_color=np.asarray([1,1,1])# 背景颜色\n",
    "opt.point_size = 1 # 点大小\n",
    "opt.show_coordinate_frame=True# 添加坐标系\n",
    "# # 颜色设置\n",
    "# pcd.paint_uniform_color([0,0,1]) # 设置颜色\n",
    "# color=np.array(pcd.colors)\n",
    "# inlier=[i for i in range(0,color.shape[0]) if i%2==0]\n",
    "# color[inlier]=[1,0,0]\n",
    "# pcd.colors=o3d.utility.Vector3dVector(color[:,:])\n",
    "\n",
    "viewer.add_geometry(pcd)\n",
    "viewer.run()"
   ]
  },
  {
   "cell_type": "code",
   "execution_count": null,
   "metadata": {},
   "outputs": [],
   "source": [
    "# 点云可视化\n",
    "print(\"->正在可视化点云\")\n",
    "o3d.visualization.draw_geometries([pcd], \n",
    "                                  window_name = 'cloud_raw',\n",
    "                                #   width = 600,height = 450,\n",
    "                                #   left = 30,top = 30,\n",
    "                                  point_show_normal = True)"
   ]
  },
  {
   "cell_type": "code",
   "execution_count": null,
   "metadata": {},
   "outputs": [],
   "source": [
    "# 深度图像读取\n",
    "depth_raw = o3d.io.read_image('depth.png')\n",
    "plt.subplot(1,1,1)\n",
    "plt.title('depth')\n",
    "plt.imshow(depth_raw)\n",
    "plt.show()"
   ]
  },
  {
   "cell_type": "code",
   "execution_count": null,
   "metadata": {},
   "outputs": [],
   "source": []
  }
 ],
 "metadata": {
  "kernelspec": {
   "display_name": "open3D",
   "language": "python",
   "name": "python3"
  },
  "language_info": {
   "codemirror_mode": {
    "name": "ipython",
    "version": 3
   },
   "file_extension": ".py",
   "mimetype": "text/x-python",
   "name": "python",
   "nbconvert_exporter": "python",
   "pygments_lexer": "ipython3",
   "version": "3.8.17"
  },
  "orig_nbformat": 4
 },
 "nbformat": 4,
 "nbformat_minor": 2
}
